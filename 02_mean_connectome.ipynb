{
 "cells": [
  {
   "cell_type": "code",
   "execution_count": 1,
   "metadata": {},
   "outputs": [],
   "source": [
    "import scipy.io\n",
    "import matplotlib.pyplot as plt\n",
    "import seaborn as sns\n",
    "import glob\n",
    "\n",
    "from neurolib.models.wc import WCModel\n",
    "\n",
    "import neurolib.utils.loadData as ld\n",
    "import neurolib.utils.functions as func\n",
    "\n",
    "# a nice color map\n",
    "plt.rcParams['image.cmap'] = 'plasma'"
   ]
  },
  {
   "cell_type": "code",
   "execution_count": 4,
   "metadata": {},
   "outputs": [
    {
     "name": "stdout",
     "output_type": "stream",
     "text": [
      "dict_keys(['__header__', '__version__', '__globals__', 'LauConsensus'])\n",
      "(1, 1)\n"
     ]
    }
   ],
   "source": [
    "mat = scipy.io.loadmat('Consensus_Connectomes.mat')\n",
    "print(mat.keys())\n",
    "data = mat['LauConsensus']\n",
    "print(data.shape)"
   ]
  },
  {
   "cell_type": "code",
   "execution_count": 21,
   "metadata": {},
   "outputs": [
    {
     "name": "stdout",
     "output_type": "stream",
     "text": [
      "1 (1, 1)\n",
      "2 ()\n",
      "3 (5, 5)\n",
      "4 (5,)\n",
      "4 (68, 68)\n",
      "5 (68, 68)\n",
      "6 (68, 68)\n",
      "7 (114, 114)\n"
     ]
    }
   ],
   "source": [
    "print(\"1\", data.shape)\n",
    "print(\"2\", data[0,0].shape)\n",
    "print(\"3\", data[0,0][0].shape)\n",
    "print(\"4\", data[0,0][0][0].shape)\n",
    "print(\"5\", data[0,0][0][0][0].shape)\n",
    "print(\"6\", data[0,0][0][0,0].shape)\n",
    "print(\"7\", data[0,0][0][0,1].shape)\n",
    "print(\"8\", data[0,0][0][1,0].shape)"
   ]
  },
  {
   "cell_type": "code",
   "execution_count": null,
   "metadata": {},
   "outputs": [],
   "source": []
  }
 ],
 "metadata": {
  "kernelspec": {
   "display_name": "Python 3 (ipykernel)",
   "language": "python",
   "name": "python3"
  },
  "language_info": {
   "codemirror_mode": {
    "name": "ipython",
    "version": 3
   },
   "file_extension": ".py",
   "mimetype": "text/x-python",
   "name": "python",
   "nbconvert_exporter": "python",
   "pygments_lexer": "ipython3",
   "version": "3.8.10"
  }
 },
 "nbformat": 4,
 "nbformat_minor": 4
}
